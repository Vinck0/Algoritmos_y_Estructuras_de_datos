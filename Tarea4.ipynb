{
  "nbformat": 4,
  "nbformat_minor": 0,
  "metadata": {
    "kernelspec": {
      "display_name": "Python 3",
      "language": "python",
      "name": "python3"
    },
    "language_info": {
      "codemirror_mode": {
        "name": "ipython",
        "version": 3
      },
      "file_extension": ".py",
      "mimetype": "text/x-python",
      "name": "python",
      "nbconvert_exporter": "python",
      "pygments_lexer": "ipython3",
      "version": "3.7.1"
    },
    "colab": {
      "name": "Copia de Copy of Tarea4.ipynb",
      "provenance": []
    }
  },
  "cells": [
    {
      "cell_type": "markdown",
      "metadata": {
        "id": "aHlFnqz2F2nU",
        "colab_type": "text"
      },
      "source": [
        "# CC3001 Otoño 2020 Tarea 4\n",
        "# Generación de código\n",
        "\n",
        "Profesores: Sección 1 Patricio Poblete / Sección 2 Nelson Baloian\n",
        "\n",
        "Plazo: Lunes 8 de junio de 2020 a las 23:59"
      ]
    },
    {
      "cell_type": "markdown",
      "metadata": {
        "id": "5Iu0WyV6NmfE",
        "colab_type": "text"
      },
      "source": [
        "# Nombre: Vincko Fabres"
      ]
    },
    {
      "cell_type": "markdown",
      "metadata": {
        "id": "-t8wjUcsF2nV",
        "colab_type": "text"
      },
      "source": [
        "El objetivo de esta tarea es aprender sobre la manipulación de árboles que representan fórmulas. Hay muchas cosas que uno puede hacer con estos árboles, y en esta tarea nos enfocaremos en particular en algo que los compiladores hacen: la **generación de código** para evaluar fórmulas.\n",
        "\n",
        "Específicamente, el problema es: dada una fórmula, generar una secuencia de instrucciones elementales que la evalúen. Por ejemplo, dada una fórmula como\n",
        "\n",
        "```\n",
        "(a+b)*(c-d)\n",
        "```\n",
        "\n",
        "se podría generar código como el siguiente:\n",
        "\n",
        "```\n",
        "t1=a+b\n",
        "t2=c-d\n",
        "t3=t1*t2\n",
        "```\n",
        "\n",
        "Las instrucciones elementales son siempre de la forma ``ti=x op y``, donde ``ti`` es una variable temporal, ``x`` e ``y`` pueden ser variables o números, y ``op`` es un operador. Uno va creando variables ``t1``, ``t2``, ... a medida que las necesita, y la última de ellas es la que almacena el valor final de la fórmula.\n",
        "\n",
        "Las fórmulas pueden ser arbitrariamente complicadas, como por ejemplo la fórmula\n",
        "\n",
        "$$\n",
        "(2-p\\,q)\\left( \\frac{1}{n}+\\frac{1}{p+q}\\right)\n",
        "$$\n",
        "\n",
        "la cual escribimos como\n",
        "\n",
        "```\n",
        "(2-p*q)*(1/n+1/(p+q))\n",
        "```\n",
        "\n",
        "y cuyo código generado podría ser,\n",
        "\n",
        "```\n",
        "t1=p*q\n",
        "t2=2-t1\n",
        "t3=1/n\n",
        "t4=p+q\n",
        "t5=1/t4\n",
        "t6=t3+t5\n",
        "t7=t2*t6\n",
        "```\n",
        "\n",
        "El objetivo de esta tarea es que usted implemente una función que, dado un árbol ya construído, lo recorra para generar una secuencia de instrucciones elementales que lo evalúe.\n",
        "\n",
        "A continuación usted encontrará clases ``Nodoi``, ``Nodoe`` y ``Arbol`` que implementan árboles que representan fórmulas. La clase ``Arbol`` viene con un constructor que recibe un string como parámetro, el cual contiene una fórmula, y este constructor se encarga de transformar la fórmula de string a árbol, de modo que usted no necesita preocuparse de eso. Para simplificar, la fórmula solo podrá contener variables de una sola letra, números de un solo dígito, y sin espacios. Los operadores permitidos son solo suma, resta, multiplicación y división. No hay operador menos unario.\n",
        "\n",
        "Usted tienen que implementar para la clase ``Arbol`` una función ``codigo`` que al ser invocado genere una secuencia de instrucciones elementales para evaluar la fórmula representada por ese árbol, y la retorne en forma de una lista (de Python)."
      ]
    },
    {
      "cell_type": "code",
      "metadata": {
        "id": "G7vsv1WvF2nX",
        "colab_type": "code",
        "colab": {}
      },
      "source": [
        "\n",
        "class Nodoi:\n",
        "    def __init__(self, izq, info, der):\n",
        "        self.izq=izq\n",
        "        self.info=info\n",
        "        self.der=der\n",
        "    def postorden(self):\n",
        "        self.izq.postorden()   \n",
        "        self.der.postorden()\n",
        "        print(self.info, end=\" \")\n",
        "    \n",
        "    def esinterno(self):\n",
        "        return True\n",
        "\n",
        "    def esexterno(self):\n",
        "        return False\n",
        "\n",
        "    def contarnodosi(self):                 #contador de nodos internos (operaciones)\n",
        "        n=1\n",
        "        if self.der.esinterno():\n",
        "          n+=self.der.contarnodosi()\n",
        "        if self.izq.esinterno():\n",
        "          n+=self.izq.contarnodosi()\n",
        "        return n\n",
        "\n",
        "    \n",
        "    def orden(self):                        #genera lista de los elementos del arbol recorridos en postorden\n",
        "        L=[] \n",
        "        L+=self.izq.orden()\n",
        "        L+=self.der.orden()\n",
        "        L.append(self.info)\n",
        "        return L\n",
        "\n",
        "class Nodoe:\n",
        "    def __init__(self, info):\n",
        "        self.info=info\n",
        "    def postorden(self):\n",
        "        print(self.info, end=\" \")\n",
        "    def esexterno(self):\n",
        "\t\t    return True\n",
        "    def esinterno(self):\n",
        "        return False\n",
        "\n",
        "    def orden(self):                        #genera lista de los elementos del arbol recorridos en postorden\n",
        "        return [self.info]\n",
        "\n",
        "class Arbol:\n",
        "    def __init__(self,formula):\n",
        "        global k\n",
        "        global s\n",
        "        s=formula+\";\" # agregamos una marca de fin de la entrada\n",
        "        k=0 # indica próximo caracter por procesar\n",
        "        # definimos funciones para analizar la fórmula\n",
        "        def expresion(): # retorna puntero a la raíz de un árbol que representa a la fórmula s\n",
        "            global k\n",
        "            global s\n",
        "            a=factor()\n",
        "            while s[k]==\"+\" or s[k]==\"-\":\n",
        "                op=s[k]\n",
        "                k+=1\n",
        "                b=factor()\n",
        "                a=Nodoi(a,op,b)\n",
        "            return a\n",
        "        def factor():\n",
        "            global k\n",
        "            global s\n",
        "            a=termino()\n",
        "            while s[k]==\"*\" or s[k]==\"/\":\n",
        "                op=s[k]\n",
        "                k+=1\n",
        "                b=termino()\n",
        "                a=Nodoi(a,op,b)\n",
        "            return a\n",
        "        def termino(): # posible constante, variable o formula parentizada\n",
        "            global k\n",
        "            global s\n",
        "            if s[k].isalpha() or s[k].isdigit():\n",
        "                a=Nodoe(s[k])\n",
        "                k+=1\n",
        "                return a\n",
        "            if s[k]==\"(\": # fórmula parentizada\n",
        "                k+=1\n",
        "                a=expresion()\n",
        "                if s[k]!=\")\":\n",
        "                    print(\"Error: Falta cierra paréntesis: \"+formula[k:])\n",
        "                    assert False\n",
        "                k+=1\n",
        "                return a\n",
        "            print(\"Error: Falta variable, número o abre paréntesis: \"+formula[k:])\n",
        "            assert False\n",
        "              \n",
        "        a=expresion()\n",
        "        if s[k]!=\";\":\n",
        "            print(\"Error: Basura al final de la fórmula: \"+formula[k:])\n",
        "            assert False                \n",
        "        self.raiz=a\n",
        "            \n",
        "    def postorden(self):\n",
        "        print(\"Postorden:\", end=\" \")\n",
        "        self.raiz.postorden()\n",
        "        print()\n",
        "    \n",
        "    def orden(self):                  #recorre el arbol en postorden, agrega los elementos a una lista y la retorna\n",
        "        return self.raiz.orden()\n",
        "\n",
        "    def contarnodosi(self):                   #cuenta la cantidad de nodos internos(numero de operaciones)\n",
        "        return self.raiz.contarnodosi()\n",
        "\n",
        "\n",
        "    def codigo(self):\n",
        "        Lista=[]             #lista a retornar\n",
        "        L1=self.raiz.orden() #lista con elementos ordenados en postorden\n",
        "        i=0                  # recorre elementos de la lista en postorden\n",
        "        t=1                  #generador de operaciones ti\n",
        "        if len(L1)==1:                        #caso base de solo una hoja\n",
        "          return ['t1='+L1[0]]\n",
        "        operaciones=self.raiz.contarnodosi()  # numero de operaciones\n",
        "        if operaciones==1:                    #caso base de solo un nodo interno\n",
        "          return ['t1='+L1[0]+L1[2]+L1[1]]\n",
        "        while t < operaciones+1:                # el numero de operaciones es igual al numero de ti\n",
        "          if L1[i]=='+' or L1[i]=='-' or L1[i]=='*' or L1[i]=='/':#revisa si el elemento de la lista es un operador, si lo es se aplica a los 2 numeros anteriores\n",
        "            operando1=L1[i-2]\n",
        "            operando2=L1[i-1]\n",
        "            op=L1[i]\n",
        "            Lista.append('t'+str(t)+'='+operando1+op+operando2)   #agrega operacion ti a la lista que se retornará\n",
        "            L1[i-2]='t'+str(t)                                    #ti reemplaza la operacion realizada en la lista de elementos en postorden\n",
        "            L1.pop(i-1)\n",
        "            L1.pop(i-1)\n",
        "            i=0\n",
        "            t+=1                                                 \n",
        "          i+=1\n",
        "        return Lista"
      ],
      "execution_count": 0,
      "outputs": []
    },
    {
      "cell_type": "markdown",
      "metadata": {
        "id": "PibRJ0ZFF2nb",
        "colab_type": "text"
      },
      "source": [
        "A continuación probamos esta funcionalidad con varias fórmulas de ejemplo. Para ver si el árbol fue construido correctamente, lo recorremos en postorden para imprimirlo en notación polaca. **Importante**: La notación polaca no tiene nada que ver con lo que ustedes tienen que hacer, es solo una manera de poder imprimir el árbol generado para chequear que esté bien construido."
      ]
    },
    {
      "cell_type": "markdown",
      "metadata": {
        "id": "5wfUrWJjh5em",
        "colab_type": "text"
      },
      "source": [
        "Igualmente para corroborar la funcionalidad de la funcion orden se compara el resultado de la lista que genera con la funcion postorden que imprime como salida cada nodo, una vez verificado se implementa en la funcion código"
      ]
    },
    {
      "cell_type": "markdown",
      "metadata": {
        "id": "dar0QinTiVoa",
        "colab_type": "text"
      },
      "source": [
        "La función código genera 2 listas, una vacía, en la cual se insertarán las operaciones para cada variable temporal ti que posteriormente será retornada y la lista que posee todos los elemntos del árbol recorridos en postorden.\n",
        "Esta última será recorrida elemento a elemento, cuando el elemento sea un operador se utilizarán los 2 operandos anteriores y el operador, los que se igualarán a una variable temporal ti, la que reemplazará estos 3 términos en la lista, posteriormente se vuelve a recorrer la lista desde el inicio hasta que el número de variables ti sea igual al numero de operaciones"
      ]
    },
    {
      "cell_type": "code",
      "metadata": {
        "id": "H6lZdeXwL6Bj",
        "colab_type": "code",
        "outputId": "4870930b-32b7-47ae-ecf4-562cc399b531",
        "colab": {
          "base_uri": "https://localhost:8080/",
          "height": 33
        }
      },
      "source": [
        "Arbol(\"(a+b)*(c-d)\").postorden()"
      ],
      "execution_count": 79,
      "outputs": [
        {
          "output_type": "stream",
          "text": [
            "Postorden: a b + c d - * \n"
          ],
          "name": "stdout"
        }
      ]
    },
    {
      "cell_type": "code",
      "metadata": {
        "id": "VqrYZp7aT-Lb",
        "colab_type": "code",
        "outputId": "c4bf93d2-40fa-446b-9d16-e3ca5c5ec516",
        "colab": {
          "base_uri": "https://localhost:8080/",
          "height": 33
        }
      },
      "source": [
        "Arbol(\"(a+b)*(c-d)\").orden()"
      ],
      "execution_count": 80,
      "outputs": [
        {
          "output_type": "execute_result",
          "data": {
            "text/plain": [
              "['a', 'b', '+', 'c', 'd', '-', '*']"
            ]
          },
          "metadata": {
            "tags": []
          },
          "execution_count": 80
        }
      ]
    },
    {
      "cell_type": "code",
      "metadata": {
        "id": "mVMg8ye2F2nj",
        "colab_type": "code",
        "outputId": "f29ecef7-8869-4a1f-a904-5e327f5531de",
        "colab": {
          "base_uri": "https://localhost:8080/",
          "height": 33
        }
      },
      "source": [
        "Arbol(\"a+b-c*d/e*f\").postorden()"
      ],
      "execution_count": 81,
      "outputs": [
        {
          "output_type": "stream",
          "text": [
            "Postorden: a b + c d * e / f * - \n"
          ],
          "name": "stdout"
        }
      ]
    },
    {
      "cell_type": "code",
      "metadata": {
        "id": "ZoXfSfOhDY7_",
        "colab_type": "code",
        "outputId": "83df29b6-0038-45ff-b704-b304ac180aca",
        "colab": {
          "base_uri": "https://localhost:8080/",
          "height": 33
        }
      },
      "source": [
        "Arbol(\"a+b-c*d/e*f\").orden()"
      ],
      "execution_count": 82,
      "outputs": [
        {
          "output_type": "execute_result",
          "data": {
            "text/plain": [
              "['a', 'b', '+', 'c', 'd', '*', 'e', '/', 'f', '*', '-']"
            ]
          },
          "metadata": {
            "tags": []
          },
          "execution_count": 82
        }
      ]
    },
    {
      "cell_type": "code",
      "metadata": {
        "id": "F4DP46cFF2nn",
        "colab_type": "code",
        "outputId": "29d05526-7ef6-4371-a5ff-d7748387511b",
        "colab": {
          "base_uri": "https://localhost:8080/",
          "height": 33
        }
      },
      "source": [
        "Arbol(\"(2-p*q)*(1/n+1/(p+q))\").postorden()"
      ],
      "execution_count": 83,
      "outputs": [
        {
          "output_type": "stream",
          "text": [
            "Postorden: 2 p q * - 1 n / 1 p q + / + * \n"
          ],
          "name": "stdout"
        }
      ]
    },
    {
      "cell_type": "code",
      "metadata": {
        "id": "Gc30tf5rW9F2",
        "colab_type": "code",
        "outputId": "f904d0f1-d682-4544-ff72-4dee8362f978",
        "colab": {
          "base_uri": "https://localhost:8080/",
          "height": 33
        }
      },
      "source": [
        "Arbol(\"(2-p*q)*(1/n+1/(p+q))\").orden()"
      ],
      "execution_count": 84,
      "outputs": [
        {
          "output_type": "execute_result",
          "data": {
            "text/plain": [
              "['2', 'p', 'q', '*', '-', '1', 'n', '/', '1', 'p', 'q', '+', '/', '+', '*']"
            ]
          },
          "metadata": {
            "tags": []
          },
          "execution_count": 84
        }
      ]
    },
    {
      "cell_type": "markdown",
      "metadata": {
        "id": "UzH5VKIFF2ns",
        "colab_type": "text"
      },
      "source": [
        "## Resultados"
      ]
    },
    {
      "cell_type": "markdown",
      "metadata": {
        "id": "_dKOs-tLF2ns",
        "colab_type": "text"
      },
      "source": [
        "En esta sección probamos la generación de código que usted tiene que escribir. Mientras usted no sustituya la función ``codigo`` provisoria que viene en la definición de la clase, va a aparecer la lista que generamos ahí. Primero vamos a definir una función ``probar`` que genera el código a partir de una fórmula dada e imprime el resultado:"
      ]
    },
    {
      "cell_type": "code",
      "metadata": {
        "id": "nN9p3gO-F2nt",
        "colab_type": "code",
        "colab": {}
      },
      "source": [
        "def probar(formula):\n",
        "    a=Arbol(formula)\n",
        "    for x in a.codigo():\n",
        "        print(x)"
      ],
      "execution_count": 0,
      "outputs": []
    },
    {
      "cell_type": "markdown",
      "metadata": {
        "id": "puLezujdF2nx",
        "colab_type": "text"
      },
      "source": [
        "A continuación probamos con varias fórmulas. Además de las fórmulas dadas, usted tiene que agregar tres ejemplos adicionales."
      ]
    },
    {
      "cell_type": "code",
      "metadata": {
        "id": "f9hCpaCgF2ny",
        "colab_type": "code",
        "outputId": "7437c052-6ddd-4a4a-c3ec-70fec9983462",
        "colab": {
          "base_uri": "https://localhost:8080/",
          "height": 33
        }
      },
      "source": [
        "probar(\"a+1\")"
      ],
      "execution_count": 86,
      "outputs": [
        {
          "output_type": "stream",
          "text": [
            "t1=a+1\n"
          ],
          "name": "stdout"
        }
      ]
    },
    {
      "cell_type": "code",
      "metadata": {
        "id": "vX6V_XTrF2n7",
        "colab_type": "code",
        "outputId": "bebbd5fa-0dff-4bdf-c9ff-6f0aeed15ebe",
        "colab": {
          "base_uri": "https://localhost:8080/",
          "height": 67
        }
      },
      "source": [
        "probar(\"(a+b)*(c-d)\")"
      ],
      "execution_count": 87,
      "outputs": [
        {
          "output_type": "stream",
          "text": [
            "t1=a+b\n",
            "t2=c-d\n",
            "t3=t1*t2\n"
          ],
          "name": "stdout"
        }
      ]
    },
    {
      "cell_type": "code",
      "metadata": {
        "id": "taeKmQj1F2n_",
        "colab_type": "code",
        "outputId": "699e6f60-39f0-4bd4-a7fb-fc799dab41c8",
        "colab": {
          "base_uri": "https://localhost:8080/",
          "height": 133
        }
      },
      "source": [
        "probar(\"(2-p*q)*(1/n+1/(p+q))\")"
      ],
      "execution_count": 88,
      "outputs": [
        {
          "output_type": "stream",
          "text": [
            "t1=p*q\n",
            "t2=2-t1\n",
            "t3=1/n\n",
            "t4=p+q\n",
            "t5=1/t4\n",
            "t6=t3+t5\n",
            "t7=t2*t6\n"
          ],
          "name": "stdout"
        }
      ]
    },
    {
      "cell_type": "code",
      "metadata": {
        "id": "KOs7ocpkF2oD",
        "colab_type": "code",
        "outputId": "00e6234f-ab59-4e73-822d-5a13f94328fa",
        "colab": {
          "base_uri": "https://localhost:8080/",
          "height": 83
        }
      },
      "source": [
        "probar(\"((((a+b)+c)+d)+e)\")"
      ],
      "execution_count": 89,
      "outputs": [
        {
          "output_type": "stream",
          "text": [
            "t1=a+b\n",
            "t2=t1+c\n",
            "t3=t2+d\n",
            "t4=t3+e\n"
          ],
          "name": "stdout"
        }
      ]
    },
    {
      "cell_type": "code",
      "metadata": {
        "id": "XzR_Y6o_F2oI",
        "colab_type": "code",
        "outputId": "1951ad75-7a71-43c2-fa4e-3cafa1c8a26c",
        "colab": {
          "base_uri": "https://localhost:8080/",
          "height": 83
        }
      },
      "source": [
        "probar(\"(a+(b+(c+(d+e))))\")"
      ],
      "execution_count": 90,
      "outputs": [
        {
          "output_type": "stream",
          "text": [
            "t1=d+e\n",
            "t2=c+t1\n",
            "t3=b+t2\n",
            "t4=a+t3\n"
          ],
          "name": "stdout"
        }
      ]
    },
    {
      "cell_type": "code",
      "metadata": {
        "id": "R62vPzgAF2oL",
        "colab_type": "code",
        "outputId": "3cdc247c-8341-421a-b17b-9bf91bd6ae12",
        "colab": {
          "base_uri": "https://localhost:8080/",
          "height": 33
        }
      },
      "source": [
        "probar(\"a\")"
      ],
      "execution_count": 91,
      "outputs": [
        {
          "output_type": "stream",
          "text": [
            "t1=a\n"
          ],
          "name": "stdout"
        }
      ]
    },
    {
      "cell_type": "code",
      "metadata": {
        "id": "fvjXnyEWjwv9",
        "colab_type": "code",
        "colab": {
          "base_uri": "https://localhost:8080/",
          "height": 50
        },
        "outputId": "829b09ea-f194-47e7-b8a5-872e067fbb90"
      },
      "source": [
        "probar(\"a/c+c\")"
      ],
      "execution_count": 92,
      "outputs": [
        {
          "output_type": "stream",
          "text": [
            "t1=a/c\n",
            "t2=t1+c\n"
          ],
          "name": "stdout"
        }
      ]
    },
    {
      "cell_type": "code",
      "metadata": {
        "id": "pAYaavvej5Qz",
        "colab_type": "code",
        "colab": {
          "base_uri": "https://localhost:8080/",
          "height": 67
        },
        "outputId": "1f5c0c61-3c1f-4aa5-f15b-d3cd417238d2"
      },
      "source": [
        "probar(\"c+d-b+a\")"
      ],
      "execution_count": 93,
      "outputs": [
        {
          "output_type": "stream",
          "text": [
            "t1=c+d\n",
            "t2=t1-b\n",
            "t3=t2+a\n"
          ],
          "name": "stdout"
        }
      ]
    },
    {
      "cell_type": "code",
      "metadata": {
        "id": "B3yXCe0qj4Sc",
        "colab_type": "code",
        "colab": {
          "base_uri": "https://localhost:8080/",
          "height": 67
        },
        "outputId": "3fb9b3fa-643b-4fb5-ddbe-d8bc473995cc"
      },
      "source": [
        "probar(\"c+(d-b)+a\")"
      ],
      "execution_count": 95,
      "outputs": [
        {
          "output_type": "stream",
          "text": [
            "t1=d-b\n",
            "t2=c+t1\n",
            "t3=t2+a\n"
          ],
          "name": "stdout"
        }
      ]
    },
    {
      "cell_type": "markdown",
      "metadata": {
        "id": "bTEMKjsgF2oO",
        "colab_type": "text"
      },
      "source": [
        "## Discusión"
      ]
    },
    {
      "cell_type": "markdown",
      "metadata": {
        "id": "Qo1CVQQLF2oP",
        "colab_type": "text"
      },
      "source": [
        "Suponga que hay escasez de variables temporales, así que se le ha pedido que trate de reciclarlas lo más posible, y solo crear nuevas variables ``ti`` cuando sea estrictamente necesario. Por ejemplo, para la fórmula\n",
        "\n",
        "```\n",
        "((a+b)*c)+((d-e)/f)\n",
        "```\n",
        "\n",
        "si generamos código como lo hemos hecho en los ejemplos anteriores (código de la izquierda), se usan 5 variables temporales, pero el código de la derecha muestra que se puede evaluar usando solo 2:\n",
        "\n",
        "```\n",
        "t1=a+b               t1=a+b\n",
        "t2=t1+c              t1=t1*c\n",
        "t3=d-e               t2=d-e\n",
        "t4=t3/f              t2=t2/f\n",
        "t5=t2+t4             t1=t1+t2\n",
        "```\n",
        "\n",
        "Discuta cómo se podría modificar su algoritmo para que (1) use menos variables temporales, y luego (2) para que use el mínimo posible de variables temporales.\n",
        "\n",
        "No es necesario que implemente nada, solo que discuta cómo se podría hacer."
      ]
    },
    {
      "cell_type": "markdown",
      "metadata": {
        "id": "ku7gcfq7HIId",
        "colab_type": "text"
      },
      "source": [
        "Para utilizar menos variables temporales se pueden reutilizar las creadas, esto se puede aplicar solo si el operador, representado  como nodo, tiene solo a uno de sus lados una expresion y al otro una hoja, ya que en ese caso se puede actualizar el valor de la variable ti por el de esta operada con la hoja. En caso contrario, como ambos lados son expresiones deben ser almacenadas y para utilizar el minimo de variables temporales una de estas puede ser reciclada actualizando su valor por el de esta operada con la otra variable temporal.\n",
        "En caso de aplicar el metodo mencionado el numero de variables temporales ya no sería el numero de nodos internos (operaciones), sino que sería igual al número de nodos que poseen 2 hojas."
      ]
    }
  ]
}