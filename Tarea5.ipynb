{
  "nbformat": 4,
  "nbformat_minor": 0,
  "metadata": {
    "kernelspec": {
      "display_name": "Python 3",
      "language": "python",
      "name": "python3"
    },
    "language_info": {
      "codemirror_mode": {
        "name": "ipython",
        "version": 3
      },
      "file_extension": ".py",
      "mimetype": "text/x-python",
      "name": "python",
      "nbconvert_exporter": "python",
      "pygments_lexer": "ipython3",
      "version": "3.7.1"
    },
    "colab": {
      "name": "Copia de Copy of Tarea5.ipynb",
      "provenance": []
    }
  },
  "cells": [
    {
      "cell_type": "markdown",
      "metadata": {
        "id": "qR6cOXGX_I6Y",
        "colab_type": "text"
      },
      "source": [
        "# CC3001 Otoño 2020 Tarea 5\n",
        "# Simulación con Colas y Colas de Prioridad\n",
        "\n",
        "Profesores: Sección 1 Patricio Poblete / Sección 2 Nelson Baloian\n",
        "\n",
        "Plazo: Lunes 22 de junio de 2020 a las 23:59"
      ]
    },
    {
      "cell_type": "markdown",
      "metadata": {
        "id": "nxpnsd4gIUrL",
        "colab_type": "text"
      },
      "source": [
        "## Nombre: Vincko Fabres"
      ]
    },
    {
      "cell_type": "markdown",
      "metadata": {
        "id": "cEaguEDP_I6h",
        "colab_type": "text"
      },
      "source": [
        "El objetivo de esta tarea es aprender a escribir programas de simulación sencillos, haciendo uso de colas y de colas de prioridad.\n",
        "\n",
        "En primer lugar, consideremos una caja a la que van llegando clientes en instantes aleatorios, separados por intervalos de tamaño promedio $t_a$. Cada cliente que llega se pone al final de la cola, espera su turno, y cuando llega a la cabeza de la cola lo empiezan a atender. La atención dura también un tiempo aleatorio de tamaño promedio $t_s$. Cuando completa su atención, sale del sistema, y en la caja se empieza a atender al siguiente cliente de la cola, en caso de que haya alguien.\n",
        "\n",
        "![colaT5](https://github.com/ppoblete/Tareas-CC3001-2020-1/blob/master/colaT5.png?raw=1)\n",
        "\n",
        "Los tiempos entre llegadas y el tiempo de atención se modelan con distribuciones exponenciales, lo cual es la suposición usual en este tipo de simulaciones.\n",
        "\n",
        "A continuación veremos un programa que simula este proceso para un número dado de clientes y calcula el largo promedio de la cola y la demora total promedio de los clientes.\n",
        "\n",
        "El programa lleva un reloj simulado, que comienza en cero y va  avanzando monótonamente, al siguiente instante en que un cliente llega al sistema o al siguiente instante en que un cliente sale del sistema, lo que sea que ocurra primero.\n",
        "\n",
        "Como hay solo dos tipos posible de eventos de interés, tendremos una variable para cada uno de ellos (``evento_llegada`` y ``evento_salida``), que almacenan los respectivos tiempos. Si en este momento no hay nadie que deba salir del sistema, ``evento_salida`` es ``None``, lo cual ocurre cada vez que la cola de espera queda vacía. En cambio, ``evento_llegada`` solo es ``None``cuando ya han llegado todos los clientes que debían llegar.\n",
        "\n",
        "Nótese que no es necesario tener generados los tiempos de todas las llegadas futuras, basta con tener el tiempo de la próxima llegada, y cuando ella se cumple se genera la siguiente.\n",
        "\n",
        "En cada elemento que está en la cola de espera anotamos solo la hora a la que llegó ese cliente, que es lo único que necesitamos saber para poder calcular, en el momento en que sale, cuánto tiempo demoró en el sistema.\n",
        "\n",
        "Estudie con atención este programa y la bitácora que él genera."
      ]
    },
    {
      "cell_type": "code",
      "metadata": {
        "id": "pQdaEcML_I6i",
        "colab_type": "code",
        "colab": {}
      },
      "source": [
        "import numpy as np\n",
        "class Cola:\n",
        "    def __init__(self):\n",
        "        self.q=[]\n",
        "    def enq(self,x):\n",
        "        self.q.insert(0,x)\n",
        "    def deq(self):\n",
        "        assert len(self.q)>0\n",
        "        return self.q.pop()\n",
        "    def is_empty(self):\n",
        "        return len(self.q)==0\n",
        "    def size(self):\n",
        "        return len(self.q)\n",
        "\n",
        "def print_list(L):\n",
        "    for x in L:\n",
        "        print(x)\n",
        "\n",
        "def simula(maxclientes,ta,ts,debug=False):\n",
        "    # simula el paso de maxclientes clientes por el sistema,\n",
        "    # ta = tiempo promedio entre llegadas (arrivals)\n",
        "    # ts = tiempo promedio de servicio\n",
        "    # maxclientes = número maximo de clientes para la simulacion\n",
        "    # debug = True => genera bitácora y usa secuencia aleatoria reproducible\n",
        "    # retorna (largo promedio de la cola, tiempo promedio en el sistema)\n",
        "\n",
        "    if debug:\n",
        "        np.random.seed(1234)\n",
        "    ahora=0 # tiempo simulado\n",
        "    nclientes=0 # número de clientes que han llegado\n",
        "    c=Cola()\n",
        "    evento_llegada=np.random.exponential(ta)\n",
        "    evento_salida=None\n",
        "    acum_largo_cola=0 # acumula largo de la cola para sacar promedio al final\n",
        "    acum_tiempo_en_sistema=0 # acumula tiempos en el sistema para sacar promedio al final\n",
        "    bitacora=[] # En caso que se pida debug\n",
        "    \n",
        "    while evento_llegada is not None or evento_salida is not None:\n",
        "        # Ver si el próximo evento que toca que ocurra es la llegada o la salida de un cliente\n",
        "        if (evento_salida is None) or (evento_llegada is not None and (evento_llegada<=evento_salida)):\n",
        "            # Llega un cliente, avanzamos el tiempo simulado a la hora en que llega\n",
        "            ahora=evento_llegada\n",
        "            nclientes+=1\n",
        "            \n",
        "            if debug:\n",
        "                bitacora.append(\"T=\"+str(ahora)+\n",
        "                                \" evento_llegada=\"+str(evento_llegada)+\" evento_salida=\"+str(evento_salida)+\n",
        "                                \" => LLEGADA\"+\n",
        "                                \"\\n\\tcola=\"+str(c.q))\n",
        "            # El cliente que acaba de llegar se pone a la cola\n",
        "            c.enq(ahora) # Basta anotar su hora de llegada\n",
        "            acum_largo_cola+=c.size()\n",
        "            \n",
        "            if c.size()==1: # la cola estaba vacía, lo empezamos a atender de inmediato\n",
        "                evento_salida=ahora+np.random.exponential(ts) # programamos su hora de salida\n",
        "            \n",
        "            if nclientes<maxclientes: # programamos la hora de llegada del siguiente cliente\n",
        "                evento_llegada=ahora+np.random.exponential(ta)\n",
        "            else:\n",
        "                evento_llegada=None\n",
        "        else:               \n",
        "            # Termina de atenderse un cliente, avanzamos el tiempo simulado a la hora en que sale\n",
        "            ahora=evento_salida\n",
        "            if debug:\n",
        "                bitacora.append(\"T=\"+str(ahora)+\n",
        "                                \" evento_llegada=\"+str(evento_llegada)+\" evento_salida=\"+str(evento_salida)+\n",
        "                                \" => SALIDA\"+\n",
        "                                \"\\n\\tcola=\"+str(c.q))\n",
        "            tllegada=c.deq() # sacamos al cliente de la cola\n",
        "            acum_tiempo_en_sistema+=(ahora-tllegada)\n",
        "            \n",
        "            if c.is_empty(): # no hay nadie en la cola\n",
        "                evento_salida=None\n",
        "            else: # Hay un cliente esperando, empezamos a atenderlo\n",
        "                evento_salida=ahora+np.random.exponential(ts) # programamos su hora de salida\n",
        "    \n",
        "    return (acum_largo_cola/maxclientes,acum_tiempo_en_sistema/maxclientes,bitacora)            "
      ],
      "execution_count": 45,
      "outputs": []
    },
    {
      "cell_type": "code",
      "metadata": {
        "id": "xV5bLtjo_I6p",
        "colab_type": "code",
        "colab": {
          "base_uri": "https://localhost:8080/",
          "height": 33
        },
        "outputId": "4574e6a7-73d2-4a9b-b793-502516e0dc6f"
      },
      "source": [
        "(cola,demora,bitacora)=simula(10,100,75,debug=True)\n",
        "print(\"Largo promedio de la cola=\",cola,\" Tiempo promedio en el sistema=\",demora)"
      ],
      "execution_count": 46,
      "outputs": [
        {
          "output_type": "stream",
          "text": [
            "Largo promedio de la cola= 1.9  Tiempo promedio en el sistema= 138.02762271192722\n"
          ],
          "name": "stdout"
        }
      ]
    },
    {
      "cell_type": "code",
      "metadata": {
        "id": "qdfsh7AM_I6v",
        "colab_type": "code",
        "colab": {
          "base_uri": "https://localhost:8080/",
          "height": 683
        },
        "outputId": "0a2917e8-fb97-4230-ecf6-cf56139160f7"
      },
      "source": [
        "print_list(bitacora)"
      ],
      "execution_count": 47,
      "outputs": [
        {
          "output_type": "stream",
          "text": [
            "T=21.25986576184801 evento_llegada=21.25986576184801 evento_salida=None => LLEGADA\n",
            "\tcola=[]\n",
            "T=78.83677538497456 evento_llegada=78.83677538497456 evento_salida=94.24603167524747 => LLEGADA\n",
            "\tcola=[21.25986576184801]\n",
            "T=94.24603167524747 evento_llegada=232.71542283099382 evento_salida=94.24603167524747 => SALIDA\n",
            "\tcola=[78.83677538497456, 21.25986576184801]\n",
            "T=207.7973648436669 evento_llegada=232.71542283099382 evento_salida=207.7973648436669 => SALIDA\n",
            "\tcola=[78.83677538497456]\n",
            "T=232.71542283099382 evento_llegada=232.71542283099382 evento_salida=None => LLEGADA\n",
            "\tcola=[]\n",
            "T=256.5855663702635 evento_llegada=265.07595569718336 evento_salida=256.5855663702635 => SALIDA\n",
            "\tcola=[232.71542283099382]\n",
            "T=265.07595569718336 evento_llegada=265.07595569718336 evento_salida=None => LLEGADA\n",
            "\tcola=[]\n",
            "T=386.489172340086 evento_llegada=582.4168679105603 evento_salida=386.489172340086 => SALIDA\n",
            "\tcola=[265.07595569718336]\n",
            "T=582.4168679105603 evento_llegada=582.4168679105603 evento_salida=None => LLEGADA\n",
            "\tcola=[]\n",
            "T=626.7051068662289 evento_llegada=626.7051068662289 evento_salida=738.9366623619304 => LLEGADA\n",
            "\tcola=[582.4168679105603]\n",
            "T=696.2190483450556 evento_llegada=696.2190483450556 evento_salida=738.9366623619304 => LLEGADA\n",
            "\tcola=[626.7051068662289, 582.4168679105603]\n",
            "T=738.9366623619304 evento_llegada=811.2505419244258 evento_salida=738.9366623619304 => SALIDA\n",
            "\tcola=[696.2190483450556, 626.7051068662289, 582.4168679105603]\n",
            "T=811.2505419244258 evento_llegada=811.2505419244258 evento_salida=832.4793149848136 => LLEGADA\n",
            "\tcola=[696.2190483450556, 626.7051068662289]\n",
            "T=832.4793149848136 evento_llegada=857.4938981550002 evento_salida=832.4793149848136 => SALIDA\n",
            "\tcola=[811.2505419244258, 696.2190483450556, 626.7051068662289]\n",
            "T=857.4938981550002 evento_llegada=857.4938981550002 evento_salida=894.2570294009206 => LLEGADA\n",
            "\tcola=[811.2505419244258, 696.2190483450556]\n",
            "T=894.2570294009206 evento_llegada=927.427158306087 evento_salida=894.2570294009206 => SALIDA\n",
            "\tcola=[857.4938981550002, 811.2505419244258, 696.2190483450556]\n",
            "T=895.296837936396 evento_llegada=927.427158306087 evento_salida=895.296837936396 => SALIDA\n",
            "\tcola=[857.4938981550002, 811.2505419244258]\n",
            "T=927.427158306087 evento_llegada=927.427158306087 evento_salida=1006.4499708056504 => LLEGADA\n",
            "\tcola=[857.4938981550002]\n",
            "T=1006.4499708056504 evento_llegada=None evento_salida=1006.4499708056504 => SALIDA\n",
            "\tcola=[927.427158306087, 857.4938981550002]\n",
            "T=1167.1389175826548 evento_llegada=None evento_salida=1167.1389175826548 => SALIDA\n",
            "\tcola=[927.427158306087]\n"
          ],
          "name": "stdout"
        }
      ]
    },
    {
      "cell_type": "markdown",
      "metadata": {
        "id": "4RX6EIbo_I6y",
        "colab_type": "text"
      },
      "source": [
        "## Lo que usted tiene que hacer"
      ]
    },
    {
      "cell_type": "markdown",
      "metadata": {
        "id": "7PVZ1Smo_I6z",
        "colab_type": "text"
      },
      "source": [
        "### 1. Mejorar este programa introduciendo una cola de prioridad\n",
        "\n",
        "El programa está escrito sabiendo que puede haber dos tipos de eventos por ocurrir (LLEGADA y SALIDA) y que en todo momento puede haber a lo más solo uno de cada tipo.\n",
        "\n",
        "En una situación más general, podría haber eventos de muchos tipos programados para ocurrir, en muchos instantes distintos. En ese caso, la implementación presentada es demasiado limitada, y se requiere un mecanismo más general para administrar esa lista de eventos futuros. Una *cola de prioridad* (usando el tiempo como prioridad, y en que el mínimo tiempo equivale a mejor prioridad) es la estructura adecuada, porque en esa lista de eventos futuros siempre vamos extrayendo el primero que debe ocurrir (el mínimo), y durante la ejecución se pueden generar nuevos elementos programados para ocurrir en el futuro (inserciones).\n",
        "\n",
        "En preparación a poder simular modelos más complejos, lo que usted tiene que hacer es implementar una lista de eventos futuros mediante uan cola de prioridad, en la cual se almacenen pares de la forma\n",
        "\n",
        "$$\n",
        "(\\text{tiempo},\\text{tipo de evento})\n",
        "$$\n",
        "\n",
        "y modificar el programa para que utilice esa cola de prioridad en lugar de las variables ``evento_salida`` y ``evento_llegada``. Implemente la cola de prioridad en base al código para heaps que aparece en el apunte.\n",
        "\n",
        "Sugerencias: Antes del while, encolar el primer evento de llegada, luego en cada iteración sacar un evento de la cola de prioridad y procesarlo, y cuando en el programa original se generaba un evento nuevo y se asignaba a la variable respectiva, ahora hay que insertar un nuevo evento del tipo correspondiente en la cola de prioridad.\n",
        "\n",
        "El programa resultante debiera ser más simple, porque varias cosas se unifican al verlas de esta manera.\n",
        "\n",
        "Ejecute ambos programas en modo ``debug`` y asegúrese que en las bitácoras resultantes los eventos que ocurren y sus tiempos sean idénticos."
      ]
    },
    {
      "cell_type": "markdown",
      "metadata": {
        "id": "YHbK6zsyHz3v",
        "colab_type": "text"
      },
      "source": [
        "El primer paso para la resolución del problema es implementar el código para heaps del apunte, notando que en el caso de esta simulación el tiempo menor posee mayor prioridad, por lo que es necesario en primera instancia modificar el código de las funciones trepar y hundir, por otra parte, el heap utilizado recibe tuplas, por lo que igualmente se debe modificar su construcción.\n"
      ]
    },
    {
      "cell_type": "code",
      "metadata": {
        "id": "zf-XhTFv4hhC",
        "colab_type": "code",
        "colab": {}
      },
      "source": [
        "import numpy as np\n",
        "\n",
        "class Cola:\n",
        "    def __init__(self):\n",
        "        self.q=[]\n",
        "    def enq(self,x):\n",
        "        self.q.insert(0,x)\n",
        "    def deq(self):\n",
        "        assert len(self.q)>0\n",
        "        return self.q.pop()\n",
        "    def is_empty(self):\n",
        "        return len(self.q)==0\n",
        "    def size(self):\n",
        "        return len(self.q)\n",
        "\n",
        "def print_list(L):\n",
        "    for x in L:\n",
        "        print(x)\n",
        "\n",
        "def trepar(a,j): # El elemento a[j] trepa hasta su nivel de prioridad \n",
        "    while j>=1 and a[j][0]<a[(j-1)//2][0]:\n",
        "        (a[j],a[(j-1)//2])=(a[(j-1)//2],a[j]) # intercambiamos con el padre\n",
        "        j=(j-1)//2 # subimos al lugar del padre\n",
        "        \n",
        "def hundir(a,j,n): # El elemento a[j] se hunde hasta su nivel de prioridad\n",
        "    while 2*j+1<n: # mientras tenga al menos 1 hijo\n",
        "        k=2*j+1 # el hijo izquierdo\n",
        "        if k+1<n and a[k+1][0]<a[k][0]: # el hijo derecho existe y es menor\n",
        "            k+=1\n",
        "        if a[j][0]<=a[k][0]: # tiene mejor prioridad que ambos hijos\n",
        "            break\n",
        "        (a[j],a[k])=(a[k],a[j]) # se intercambia con el mayor de los hijos\n",
        "        j=k # bajamos al lugar del mayor de los hijos\n",
        "\n",
        "class Heap:\n",
        "    def __init__(self,maxn=100):\n",
        "        self.a=np.zeros(maxn,dtype=object)\n",
        "        self.n=0\n",
        "    def insert(self,x,y):\n",
        "        assert self.n<len(self.a)\n",
        "        self.a[self.n]=[x,y]   \n",
        "        trepar(self.a,self.n)\n",
        "        self.n+=1       \n",
        "    def extract_max(self):\n",
        "        x=self.a[0] # esta variable lleva el máximo, el casillero 0 queda vacante\n",
        "        self.n-=1   # achicamos el heap\n",
        "        self.a[0]=self.a[self.n] # movemos el elemento sobrante hacia el casillero vacante\n",
        "        hundir(self.a,0,self.n)\n",
        "        return x\n",
        "    def imprimir(self):\n",
        "        print(self.a[0:self.n])\n",
        "\n",
        "    def is_notempty(self):\n",
        "      if self.n==0:\n",
        "        return False\n",
        "      return True\n",
        "    \n",
        "    def size(self):\n",
        "      return self.n\n",
        "    \n",
        "    def Heapsort(a): # Versión preliminar\n",
        "      n=len(a)\n",
        "      h=Heap(n)\n",
        "    # Fase 1: insertamos los elementos en un heap\n",
        "      for k in range(0,n):\n",
        "        h.insert(a[k])\n",
        "    # Fase 2: extraemos el máximo sucesivamente\n",
        "      for k in range(n-1,-1,-1):\n",
        "        a[k]=h.extract_max()\n",
        "    \n",
        "###########################                 Simula              #################################################################################################\n",
        "def simula1(maxclientes,ta,ts,debug=False):\n",
        "    # simula el paso de maxclientes clientes por el sistema,\n",
        "    # ta = tiempo promedio entre llegadas (arrivals)\n",
        "    # ts = tiempo promedio de servicio\n",
        "    # maxclientes = número maximo de clientes para la simulacion\n",
        "    # debug = True => genera bitácora y usa secuencia aleatoria reproducible\n",
        "    # retorna (largo promedio de la cola, tiempo promedio en el sistema)\n",
        "\n",
        "      if debug:\n",
        "          np.random.seed(1234)\n",
        "      nclientes=0 # número de clientes que han llegado\n",
        "      c=Cola()\n",
        "      tiempo =np.random.exponential(ta) # tiempo simulado, parte con la llegada de un cliente\n",
        "      acum_largo_cola=0 # acumula largo de la cola para sacar promedio al final\n",
        "      acum_tiempo_en_sistema=0 # acumula tiempos en el sistema para sacar promedio al final\n",
        "      largo_cola=0\n",
        "      bitacora=[] # En caso que se pida debug\n",
        "      heap= Heap()\n",
        "      heap.insert(tiempo,\"Llegada\")\n",
        "\n",
        "      while  heap.is_notempty():#aun faltan clientes por llegar o ser atendidos\n",
        "          # Ver si el próximo evento que toca que ocurra es la llegada o la salida de un cliente\n",
        "          persona=heap.extract_max() #se extrae la tupla con mayor prioridad (tiempo,evento)\n",
        "          tiempo=persona[0]\n",
        "          evento=persona[1]\n",
        "          if evento==\"Llegada\": #analizamos el caso en que evento sea Llegada, en caso contrario es Salida\n",
        "              if debug:\n",
        "                  bitacora.append(\"T=\"+str(tiempo)+\" evento=\"+str(evento)+\"\\n\\tcola=\"+str(c.q))\n",
        "              # Llega un cliente, avanzamos el tiempo simulado a la hora en que llega\n",
        "              nclientes+=1\n",
        "              #largo_cola+=1                 # manera alternativa de sacar acum_largo_cola\n",
        "              #acum_largo_cola+=largo_cola\n",
        "              c.enq(tiempo) # Basta anotar su hora de llegada\n",
        "              acum_largo_cola+=c.size()\n",
        "              if heap.size()==0: # la cola estaba vacía, lo empezamos a atender de inmediato\n",
        "                  tiempo_s=tiempo+np.random.exponential(ts) # programamos su hora de salida\n",
        "                  heap.insert(tiempo_s,\"Salida\")            #se inserta la tupla en el Heap\n",
        "              \n",
        "              if nclientes<maxclientes: # programamos la hora de llegada del siguiente cliente\n",
        "                  tiempo_ll=tiempo+np.random.exponential(ta)\n",
        "                  heap.insert(tiempo_ll,\"Llegada\")           #se inserta la tupla en el Heap\n",
        "          else:               \n",
        "              # Termina de atenderse un cliente, avanzamos el tiempo simulado a la hora en que sale\n",
        "              if debug:\n",
        "                  bitacora.append(\"T=\"+str(tiempo)+\" evento=\"+str(evento)+\"\\n\\tcola=\"+str(c.q))\n",
        "              tllegada=c.deq() # sacamos al cliente de la cola\n",
        "              acum_tiempo_en_sistema+=(tiempo-tllegada)\n",
        "              #largo_cola-=1     # manera alternativa de sacar acum_largo_cola\n",
        "              if not c.is_empty(): # Hay un cliente esperando, empezamos a atenderlo\n",
        "                  tiempo_s=tiempo+np.random.exponential(ts) # programamos su hora de salida\n",
        "                  heap.insert(tiempo_s,\"Salida\")             #se inserta la tupla en el Heap\n",
        "\n",
        "      return (acum_largo_cola/maxclientes,acum_tiempo_en_sistema/maxclientes,bitacora)    "
      ],
      "execution_count": 48,
      "outputs": []
    },
    {
      "cell_type": "markdown",
      "metadata": {
        "id": "a16XS2WjNlrs",
        "colab_type": "text"
      },
      "source": [
        "Una vez modificada la prioridad y los elementos con que trabaja el Heap se modifica el código, el cual esta vez genera las tuplas que van siendo guardadas en el Heap, este ordena segun la prioridad (tiempo menor) y retorna como máximo el instante en que ocurre el evento y la clase de evento que es, lo cual es mostrado en la bitácora.\n",
        " Al comparar la función dada *simula* con su modificación *simula1*, activando la opción *debug* para verificar su funcionamiento notamos que retornan los mismos valores."
      ]
    },
    {
      "cell_type": "code",
      "metadata": {
        "id": "Xu3OBlQLFNOB",
        "colab_type": "code",
        "colab": {
          "base_uri": "https://localhost:8080/",
          "height": 50
        },
        "outputId": "6289b57a-98d1-472e-9b2c-3bafbeecaa17"
      },
      "source": [
        "(cola,demora,bitacora)=simula(10,100,75,debug=True)\n",
        "print(\"Largo promedio de la cola=\",cola,\" Tiempo promedio en el sistema=\",demora)\n",
        "(cola1,demora1,bitacora1)=simula1(10,100,75,debug=True)\n",
        "print(\"Largo promedio de la cola=\",cola1,\" Tiempo promedio en el sistema=\",demora1)\n"
      ],
      "execution_count": 49,
      "outputs": [
        {
          "output_type": "stream",
          "text": [
            "Largo promedio de la cola= 1.9  Tiempo promedio en el sistema= 138.02762271192722\n",
            "Largo promedio de la cola= 1.9  Tiempo promedio en el sistema= 138.02762271192722\n"
          ],
          "name": "stdout"
        }
      ]
    },
    {
      "cell_type": "code",
      "metadata": {
        "id": "mkR3B_7DNFp7",
        "colab_type": "code",
        "colab": {
          "base_uri": "https://localhost:8080/",
          "height": 683
        },
        "outputId": "c01c77fb-c39e-4495-b48c-78d8d4c74798"
      },
      "source": [
        "print_list(bitacora)"
      ],
      "execution_count": 50,
      "outputs": [
        {
          "output_type": "stream",
          "text": [
            "T=21.25986576184801 evento_llegada=21.25986576184801 evento_salida=None => LLEGADA\n",
            "\tcola=[]\n",
            "T=78.83677538497456 evento_llegada=78.83677538497456 evento_salida=94.24603167524747 => LLEGADA\n",
            "\tcola=[21.25986576184801]\n",
            "T=94.24603167524747 evento_llegada=232.71542283099382 evento_salida=94.24603167524747 => SALIDA\n",
            "\tcola=[78.83677538497456, 21.25986576184801]\n",
            "T=207.7973648436669 evento_llegada=232.71542283099382 evento_salida=207.7973648436669 => SALIDA\n",
            "\tcola=[78.83677538497456]\n",
            "T=232.71542283099382 evento_llegada=232.71542283099382 evento_salida=None => LLEGADA\n",
            "\tcola=[]\n",
            "T=256.5855663702635 evento_llegada=265.07595569718336 evento_salida=256.5855663702635 => SALIDA\n",
            "\tcola=[232.71542283099382]\n",
            "T=265.07595569718336 evento_llegada=265.07595569718336 evento_salida=None => LLEGADA\n",
            "\tcola=[]\n",
            "T=386.489172340086 evento_llegada=582.4168679105603 evento_salida=386.489172340086 => SALIDA\n",
            "\tcola=[265.07595569718336]\n",
            "T=582.4168679105603 evento_llegada=582.4168679105603 evento_salida=None => LLEGADA\n",
            "\tcola=[]\n",
            "T=626.7051068662289 evento_llegada=626.7051068662289 evento_salida=738.9366623619304 => LLEGADA\n",
            "\tcola=[582.4168679105603]\n",
            "T=696.2190483450556 evento_llegada=696.2190483450556 evento_salida=738.9366623619304 => LLEGADA\n",
            "\tcola=[626.7051068662289, 582.4168679105603]\n",
            "T=738.9366623619304 evento_llegada=811.2505419244258 evento_salida=738.9366623619304 => SALIDA\n",
            "\tcola=[696.2190483450556, 626.7051068662289, 582.4168679105603]\n",
            "T=811.2505419244258 evento_llegada=811.2505419244258 evento_salida=832.4793149848136 => LLEGADA\n",
            "\tcola=[696.2190483450556, 626.7051068662289]\n",
            "T=832.4793149848136 evento_llegada=857.4938981550002 evento_salida=832.4793149848136 => SALIDA\n",
            "\tcola=[811.2505419244258, 696.2190483450556, 626.7051068662289]\n",
            "T=857.4938981550002 evento_llegada=857.4938981550002 evento_salida=894.2570294009206 => LLEGADA\n",
            "\tcola=[811.2505419244258, 696.2190483450556]\n",
            "T=894.2570294009206 evento_llegada=927.427158306087 evento_salida=894.2570294009206 => SALIDA\n",
            "\tcola=[857.4938981550002, 811.2505419244258, 696.2190483450556]\n",
            "T=895.296837936396 evento_llegada=927.427158306087 evento_salida=895.296837936396 => SALIDA\n",
            "\tcola=[857.4938981550002, 811.2505419244258]\n",
            "T=927.427158306087 evento_llegada=927.427158306087 evento_salida=1006.4499708056504 => LLEGADA\n",
            "\tcola=[857.4938981550002]\n",
            "T=1006.4499708056504 evento_llegada=None evento_salida=1006.4499708056504 => SALIDA\n",
            "\tcola=[927.427158306087, 857.4938981550002]\n",
            "T=1167.1389175826548 evento_llegada=None evento_salida=1167.1389175826548 => SALIDA\n",
            "\tcola=[927.427158306087]\n"
          ],
          "name": "stdout"
        }
      ]
    },
    {
      "cell_type": "code",
      "metadata": {
        "id": "BBVxNb3JNGJi",
        "colab_type": "code",
        "colab": {
          "base_uri": "https://localhost:8080/",
          "height": 683
        },
        "outputId": "bfc84614-78b3-4dd8-c723-097a0a3388fe"
      },
      "source": [
        "print_list(bitacora1)"
      ],
      "execution_count": 51,
      "outputs": [
        {
          "output_type": "stream",
          "text": [
            "T=21.25986576184801 evento=Llegada\n",
            "\tcola=[]\n",
            "T=78.83677538497456 evento=Llegada\n",
            "\tcola=[21.25986576184801]\n",
            "T=94.24603167524747 evento=Salida\n",
            "\tcola=[78.83677538497456, 21.25986576184801]\n",
            "T=207.7973648436669 evento=Salida\n",
            "\tcola=[78.83677538497456]\n",
            "T=232.71542283099382 evento=Llegada\n",
            "\tcola=[]\n",
            "T=256.5855663702635 evento=Salida\n",
            "\tcola=[232.71542283099382]\n",
            "T=265.07595569718336 evento=Llegada\n",
            "\tcola=[]\n",
            "T=386.489172340086 evento=Salida\n",
            "\tcola=[265.07595569718336]\n",
            "T=582.4168679105603 evento=Llegada\n",
            "\tcola=[]\n",
            "T=626.7051068662289 evento=Llegada\n",
            "\tcola=[582.4168679105603]\n",
            "T=696.2190483450556 evento=Llegada\n",
            "\tcola=[626.7051068662289, 582.4168679105603]\n",
            "T=738.9366623619304 evento=Salida\n",
            "\tcola=[696.2190483450556, 626.7051068662289, 582.4168679105603]\n",
            "T=811.2505419244258 evento=Llegada\n",
            "\tcola=[696.2190483450556, 626.7051068662289]\n",
            "T=832.4793149848136 evento=Salida\n",
            "\tcola=[811.2505419244258, 696.2190483450556, 626.7051068662289]\n",
            "T=857.4938981550002 evento=Llegada\n",
            "\tcola=[811.2505419244258, 696.2190483450556]\n",
            "T=894.2570294009206 evento=Salida\n",
            "\tcola=[857.4938981550002, 811.2505419244258, 696.2190483450556]\n",
            "T=895.296837936396 evento=Salida\n",
            "\tcola=[857.4938981550002, 811.2505419244258]\n",
            "T=927.427158306087 evento=Llegada\n",
            "\tcola=[857.4938981550002]\n",
            "T=1006.4499708056504 evento=Salida\n",
            "\tcola=[927.427158306087, 857.4938981550002]\n",
            "T=1167.1389175826548 evento=Salida\n",
            "\tcola=[927.427158306087]\n"
          ],
          "name": "stdout"
        }
      ]
    },
    {
      "cell_type": "markdown",
      "metadata": {
        "id": "EiFVF2jZ_I6z",
        "colab_type": "text"
      },
      "source": [
        "## 2. Modificar el modelo para introducir un tiempo comprando\n",
        "\n",
        "A continuación, introduciremos un elemento adicional en el modelo, y usted debe modificar su programa para incluirlo.\n",
        "\n",
        "Supondremos que una vez que un cliente llega, en lugar de ponerse a la cola de inmediato, pasa un rato en la tienda comprando, y una vez que termina (después de transcurrido un tiempo aleatorio de duración promedio $t_c$), en ese momento recién se pone a la cola para pagar en la caja.\n",
        "\n",
        "![cola2T5](https://github.com/ppoblete/Tareas-CC3001-2020-1/blob/master/cola2T5.png?raw=1)\n",
        "\n",
        "Observe que, como puede haber muchos clientes en la tienda que aún no terminan de comprar, en la lista de eventos futuros ahora puede haber muchos eventos de un nuevo tipo (FINCOMPRA), lo que justifica el haber introducido la cola de prioridad.\n",
        "\n",
        "Ejecute su programa en modo ``debug`` agregando un parámetro $t_c=300$ e imprima el largo promedio de la cola, la demora total promedio de los clientes y la bitácora."
      ]
    },
    {
      "cell_type": "markdown",
      "metadata": {
        "id": "26RHc33lDH_U",
        "colab_type": "text"
      },
      "source": [
        "Para introducir el elemento adicional notemos que se cumple lo siguiente; El tiempo en sistema corresponde sólo al utilizado en la fila, esto quiere decir, la diferencia entre el tiempo de salida y la finalización de la compra, por otra parte el tiempo de salida depende del tiempo de llegada de cada cliente."
      ]
    },
    {
      "cell_type": "code",
      "metadata": {
        "id": "9Skgf7lXP4L5",
        "colab_type": "code",
        "colab": {}
      },
      "source": [
        "def simula2(maxclientes,ta,ts,tc,debug=False):\n",
        "    # simula el paso de maxclientes clientes por el sistema,\n",
        "    # ta = tiempo promedio entre llegadas (arrivals)\n",
        "    # ts = tiempo promedio de servicio\n",
        "    # tc = tiempo promedio de compra\n",
        "    # maxclientes = número maximo de clientes para la simulacion\n",
        "    # debug = True => genera bitácora y usa secuencia aleatoria reproducible\n",
        "    # retorna (largo promedio de la cola, tiempo promedio en el sistema)\n",
        "\n",
        "      if debug:\n",
        "          np.random.seed(1234)\n",
        "      nclientes=0 # número de clientes que han llegado\n",
        "      c=Cola()\n",
        "      tiempo =np.random.exponential(ta) # tiempo simulado, parte con la llegada de un cliente\n",
        "      acum_largo_cola=0 # acumula largo de la cola para sacar promedio al final\n",
        "      acum_tiempo_en_sistema=0 # acumula tiempos en el sistema para sacar promedio al final\n",
        "      largo_cola=0\n",
        "      bitacora=[] # En caso que se pida debug\n",
        "      heap= Heap()\n",
        "      heap.insert(tiempo,\"Llegada\")\n",
        "\n",
        "      while  heap.is_notempty():#aun faltan clientes por llegar o ser atendidos\n",
        "          # Ver si el próximo evento que toca \n",
        "          persona=heap.extract_max()         #se extrae la tupla con mayor prioridad (tiempo,evento)\n",
        "          tiempo=persona[0]\n",
        "          evento=persona[1]\n",
        "          if evento==\"Llegada\":                #se analizan los 3 posibles eventos\n",
        "              if debug:\n",
        "                  bitacora.append(\"T=\"+str(tiempo)+\" evento=\"+str(evento)+\"\\n\\tcola=\"+str(c.q))\n",
        "              # Llega un cliente, avanzamos el tiempo simulado a la hora en que llega\n",
        "              nclientes+=1\n",
        "              tiempo_c=tiempo+np.random.exponential(tc) # programamos hora de fin de compra\n",
        "              heap.insert(tiempo_c,\"Fin Compra\")        #se inserta la tupla en el Heap\n",
        "              if nclientes<maxclientes: # programamos la hora de llegada del siguiente cliente\n",
        "                  tiempo_ll=tiempo+np.random.exponential(ta)       \n",
        "                  heap.insert(tiempo_ll,\"Llegada\")            #se inserta la tupla en el Heap\n",
        "          if evento == \"Fin Compra\":\n",
        "              if debug:\n",
        "                  bitacora.append(\"T=\"+str(tiempo)+\" evento=\"+str(evento)+\"\\n\\tcola=\"+str(c.q))\n",
        "              c.enq(tiempo) # Tiempo encolado en caja\n",
        "              acum_largo_cola+=c.size()                 #la cola consta de clientes que finalizaron su compra\n",
        "              tiempo_s=tiempo+np.random.exponential(ts) # programamos su hora de salida\n",
        "              heap.insert(tiempo_s,\"Salida\")                   #se inserta la tupla en el Heap\n",
        "          if evento == \"Salida\":               \n",
        "              # Termina de atenderse un cliente, avanzamos el tiempo simulado a la hora en que sale\n",
        "              if debug:\n",
        "                  bitacora.append(\"T=\"+str(tiempo)+\" evento=\"+str(evento)+\"\\n\\tcola=\"+str(c.q)) \n",
        "              tllegada=c.deq() # sacamos al cliente de la cola\n",
        "              acum_tiempo_en_sistema+=(tiempo-tllegada)\n",
        "              if not c.is_empty() and c.size()>1: # Hay un cliente esperando, empezamos a atenderlo\n",
        "                  tiempo_s=tiempo+np.random.exponential(ts) # programamos su hora de salida\n",
        "                  heap.insert(tiempo_s,\"Salida\")           #se inserta la tupla en el Heap\n",
        "      return (acum_largo_cola/maxclientes,acum_tiempo_en_sistema/maxclientes,bitacora) "
      ],
      "execution_count": 41,
      "outputs": []
    },
    {
      "cell_type": "code",
      "metadata": {
        "id": "oVi8cVIaSTcV",
        "colab_type": "code",
        "colab": {
          "base_uri": "https://localhost:8080/",
          "height": 33
        },
        "outputId": "158319ee-91f4-45d7-f694-0cfb8eb45f72"
      },
      "source": [
        "(cola,demora,bitacora)=simula2(10,100,75,300,debug=True)\n",
        "print(\"Largo promedio de la cola=\",cola,\"Tiempo promedio en el sistema=\",demora)"
      ],
      "execution_count": 42,
      "outputs": [
        {
          "output_type": "stream",
          "text": [
            "Largo promedio de la cola= 1.5 Tiempo promedio en el sistema= 85.51523290663947\n"
          ],
          "name": "stdout"
        }
      ]
    },
    {
      "cell_type": "code",
      "metadata": {
        "id": "0aeZIx-9pqx_",
        "colab_type": "code",
        "colab": {
          "base_uri": "https://localhost:8080/",
          "height": 1000
        },
        "outputId": "5cacbbb0-fa80-488e-c956-7cc9efec7ed4"
      },
      "source": [
        "print_list(bitacora)"
      ],
      "execution_count": 43,
      "outputs": [
        {
          "output_type": "stream",
          "text": [
            "T=21.25986576184801 evento=Llegada\n",
            "\tcola=[]\n",
            "T=78.83677538497456 evento=Llegada\n",
            "\tcola=[]\n",
            "T=230.23855294286716 evento=Llegada\n",
            "\tcola=[]\n",
            "T=262.5990858090567 evento=Llegada\n",
            "\tcola=[]\n",
            "T=313.20452941544585 evento=Fin Compra\n",
            "\tcola=[]\n",
            "T=325.719127099946 evento=Fin Compra\n",
            "\tcola=[313.20452941544585]\n",
            "T=358.9353063166974 evento=Salida\n",
            "\tcola=[325.719127099946, 313.20452941544585]\n",
            "T=469.724323866816 evento=Salida\n",
            "\tcola=[325.719127099946]\n",
            "T=540.4727177230324 evento=Fin Compra\n",
            "\tcola=[]\n",
            "T=579.9399980224337 evento=Llegada\n",
            "\tcola=[540.4727177230324]\n",
            "T=592.6081738321524 evento=Salida\n",
            "\tcola=[540.4727177230324]\n",
            "T=704.6635348529446 evento=Llegada\n",
            "\tcola=[]\n",
            "T=748.2519523806671 evento=Fin Compra\n",
            "\tcola=[]\n",
            "T=787.0338207410872 evento=Llegada\n",
            "\tcola=[748.2519523806671]\n",
            "T=791.1930548829886 evento=Fin Compra\n",
            "\tcola=[748.2519523806671]\n",
            "T=800.7018974939823 evento=Salida\n",
            "\tcola=[791.1930548829886, 748.2519523806671]\n",
            "T=843.3936035446682 evento=Fin Compra\n",
            "\tcola=[791.1930548829886]\n",
            "T=877.4399092918618 evento=Salida\n",
            "\tcola=[843.3936035446682, 791.1930548829886]\n",
            "T=925.0344787605443 evento=Fin Compra\n",
            "\tcola=[843.3936035446682]\n",
            "T=935.2379979000931 evento=Llegada\n",
            "\tcola=[925.0344787605443, 843.3936035446682]\n",
            "T=951.8820016599929 evento=Salida\n",
            "\tcola=[925.0344787605443, 843.3936035446682]\n",
            "T=958.7501317668028 evento=Fin Compra\n",
            "\tcola=[925.0344787605443]\n",
            "T=981.255052149717 evento=Llegada\n",
            "\tcola=[958.7501317668028, 925.0344787605443]\n",
            "T=996.7000919660279 evento=Salida\n",
            "\tcola=[958.7501317668028, 925.0344787605443]\n",
            "T=1031.8724609990513 evento=Llegada\n",
            "\tcola=[958.7501317668028]\n",
            "T=1161.6368260147349 evento=Salida\n",
            "\tcola=[958.7501317668028]\n",
            "T=1297.3852868925446 evento=Fin Compra\n",
            "\tcola=[]\n",
            "T=1325.9618251374886 evento=Salida\n",
            "\tcola=[1297.3852868925446]\n",
            "T=1498.2581667736763 evento=Fin Compra\n",
            "\tcola=[]\n",
            "T=1561.2250227269567 evento=Salida\n",
            "\tcola=[1498.2581667736763]\n"
          ],
          "name": "stdout"
        }
      ]
    },
    {
      "cell_type": "markdown",
      "metadata": {
        "id": "fc5Rru6W_I60",
        "colab_type": "text"
      },
      "source": [
        "## 3. ¿Qué hay que entregar?\n",
        "\n",
        "Usted debe entregar este mismo archivo, modificado de acuerdo a lo que se pide. Haga todos los cambios necesarios para explicar y documentar adecuadamente su código. No olvide poner su nombre."
      ]
    }
  ]
}