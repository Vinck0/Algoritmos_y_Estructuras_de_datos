{
  "nbformat": 4,
  "nbformat_minor": 0,
  "metadata": {
    "kernelspec": {
      "display_name": "Python 3",
      "language": "python",
      "name": "python3"
    },
    "language_info": {
      "codemirror_mode": {
        "name": "ipython",
        "version": 3
      },
      "file_extension": ".py",
      "mimetype": "text/x-python",
      "name": "python",
      "nbconvert_exporter": "python",
      "pygments_lexer": "ipython3",
      "version": "3.7.1"
    },
    "colab": {
      "name": "Copia de Copy of Tarea6.ipynb",
      "provenance": []
    }
  },
  "cells": [
    {
      "cell_type": "markdown",
      "metadata": {
        "id": "oI4yT_8ERcDK",
        "colab_type": "text"
      },
      "source": [
        "# CC3001 Otoño 2020 Tarea 6\n",
        "\n",
        "## Árboles 2-3\n",
        "\n",
        "Profesores: Sección 1 Patricio Poblete / Sección 2 Nelson Baloian\n",
        "\n",
        "Plazo: Lunes 20 de julio de 2020 a las 23:59"
      ]
    },
    {
      "cell_type": "markdown",
      "metadata": {
        "id": "no5ZukqUgK4Q",
        "colab_type": "text"
      },
      "source": [
        "#Vincko Fabres"
      ]
    },
    {
      "cell_type": "markdown",
      "metadata": {
        "id": "U-xBuiMRRcDN",
        "colab_type": "text"
      },
      "source": [
        "El objetivo de esta tarea es que usted implemente árboles 2-3. Si ve en el apunte, para los árboles AVL aparece la implementación, pero no así para los árboles 2-3. Usted debe ayudar a completar el apunte y si lo hace bien, es posible que en el futuro aparezca su código en este capítulo.\n",
        "\n",
        "A continuación aparece algo de código para ayudarlo a partir. Hay dos tipos de nodos internos (``Nodo2`` y ``Nodo3``), según si ese nodo es binario o ternario, y un tipo de nodo externo u hoja (``Nodoe``). Además, está la clase ``Arbol23``, que es el punto de partida. Las operaciones que usted tiene que implementar son ``insert`` y ``search``.\n",
        "\n",
        "En varias partes se ha rellenado con código provisorio, para que compile. Usted debe reemplazar y completar todo lo que sea necesario para que todo funcione.\n",
        "\n",
        "El código esbozado más abajo está orientado a una implementación recursiva, la que podemos describir de la siguiente manera:\n",
        "\n",
        "* Si se inserta una llave en un nodo binario, hay que insertarla recursivamente en el hijo izquierdo o en el derecho, según corresponda. Si esto no produce un *split* del hijo, el resultado es un puntero al nodo resultante (que puede ser binario o ternario), lo cual se anota en el lugar respectivo y se retorna un puntero al nodo resultante. Pero si el hijo se divide, se recibe el resultado que es una tupla que contiene el árbol izquierdo, el árbol derecho, y la llave que los separa. Con esto este nodo tiene la información para mutar a ternario y retornar el resultado.\n",
        "\n",
        "* Si se inserta una llave en un nodo ternario hay que insertarla recursivamente en el hijo izquierdo, en el del medio o en el derecho, según corresponda. Si esto no produce un *split* del hijo, el resultado es un puntero al nodo resultante (que puede ser binario o ternario), lo cual se anota en el lugar respectivo y se retorna un puntero al nodo resultante. Pero si el hijo se divide, se recibe el resultado que es una tupla que contiene el árbol izquierdo, el árbol derecho, y la llave que los separa. Con esto este nodo tiene la información para a su vez dividirse y retornar la tupla resultante.\n",
        "\n",
        "* Lo anterior permite modelar de la misma manera la inserción en una hoja: al recibir una llave, se divide en dos hojas, y la llave entrante las separa. Esto se retorna hacia arriba en la forma de una tupla y se la da el mismo tratamiento anterior.\n",
        "\n",
        "* En la clase ``Arbol23`` hay que estar preparado para recibir una tupla como resultado de la inserción, lo cual indicaría que la raíz se dividió. En ese caso, hay que crear nodo binario para que sea la nueva raíz.\n",
        "\n",
        "La operación de búsqueda (``search``) debe retornar un puntero al nodo que contiene la llave buscada, en caso de ser exitosa, o ``None`` si es infructuosa."
      ]
    },
    {
      "cell_type": "markdown",
      "metadata": {
        "id": "RGHIkk0zjqyt",
        "colab_type": "text"
      },
      "source": [
        "Las condiciones que debe cumplir la estructura son :\n",
        "1.   Los nodos internos son binarios o ternarios \n",
        "2.   El árbol está balanceado, todas sus hojas están al mismo nivel\n",
        "\n",
        "Con estas consideraciones se procede como sigue en el código\n"
      ]
    },
    {
      "cell_type": "code",
      "metadata": {
        "id": "nxsGXBsERcDP",
        "colab_type": "code",
        "colab": {}
      },
      "source": [
        "class Nodo2:\n",
        "    def __init__(self, izq, info, der): #nodo binario con parametro adicional\n",
        "        self.izq=izq\n",
        "        self.info=info\n",
        "        self.der=der\n",
        "        self.altura= 1+max(izq.altura,der.altura) #implementacion de altura \n",
        "    \n",
        "    ######ESTA ES UNA IDEA ABANDONADA PARA SERCH PERO LA DEJO PQ GASTÉ MUCHO TIEMPO EN ESTA Y ME DA PENA BORRARLA######\n",
        "    #if self.izq.esternario():\n",
        "    #        A=self.izq.info1\n",
        "    #        B=self.izq.info2\n",
        "    #        if x<A:\n",
        "    #          self.izq=Nodo2(self.izq.izq,x,self.izq.der)\n",
        "    #          p=Nodo3(self.izq,A,Nodo2(Nodoe(),B,Nodoe()),self.info,self.der)\n",
        "    #       if x>A and x<B:\n",
        "    #          self.izq=Nodo2(self.izq.izq,A,self.izq.der)\n",
        "    #          p=Nodo3(self.izq,x,Nodo2(Nodoe(),B,Nodoe()),self.info,self.der)\n",
        "    #        if x>B:\n",
        "    #          self.izq=Nodo2(self.izq.izq,A,self.izq.der)\n",
        "    #          p=Nodo3(self.izq,B,Nodo2(Nodoe(),x,Nodoe()),self.info,self.der)\n",
        "    #      else:\n",
        "    #        self.izq.insert(x)\n",
        "        \n",
        "    #    if x>self.info:\n",
        "    #      p=Nodo2(self.izq,self.info,self.der.insert(x))\n",
        "    #      if self.der.esnodoe():\n",
        "    #        self=Nodo3(self.izq,self.info,Nodoe(),x,self.der())\n",
        "    #      if self.der.esternario():\n",
        "    #      \n",
        "    #      else:\n",
        "    #        self.der.insert(x)\n",
        "        \n",
        "    def insert(self,x):\n",
        "        assert x!=self.info\n",
        "        if x<self.info:\n",
        "          p=Nodo2(self.izq.insert(x),self.info,self.der)  # implementación iterativa\n",
        "          if p.izq.altura != p.der.altura:  # se deja de cumplir la condicion de todas las hojas al mismo nivel por lo que se deben juntar, creando un nodo terciario\n",
        "            p=Nodo3(p.izq.izq,p.izq.info,p.izq.der,p.info,p.der)\n",
        "        if x>self.info:\n",
        "          p=Nodo2(self.izq,self.info,self.der.insert(x))\n",
        "          if p.izq.altura != p.der.altura:\n",
        "            p=Nodo3(p.izq,p.info,p.der.izq,p.der.info,p.der.der)   \n",
        "        return p\n",
        "\n",
        "    def search(self,x):\n",
        "        if x==self.info:\n",
        "          return self\n",
        "        if x<self.info:\n",
        "            return self.izq.search(x)\n",
        "        return self.der.search(x)\n",
        "        \n",
        "    def string(self):\n",
        "        return (\"(\"+self.izq.string()\n",
        "                +str(self.info)\n",
        "                +self.der.string()+\")\")\n",
        "    \n",
        "    def esternario(self):\n",
        "        return False\n",
        "    \n",
        "    def esbinario(self):\n",
        "        return True\n",
        "\n",
        "class Nodo3:\n",
        "    def __init__(self, izq, info1, med, info2, der):\n",
        "        self.izq=izq\n",
        "        self.info1=info1\n",
        "        self.med=med\n",
        "        self.info2=info2\n",
        "        self.der=der\n",
        "        self.altura=1+max(izq.altura,med.altura,der.altura)\n",
        "        \n",
        "    def insert(self,x):\n",
        "        assert x!=self.info1\n",
        "        assert x!=self.info2\n",
        "        if x<self.info1:                       #El procedimiento inicial es el mismo que el utilizado en nodos binarios, solo que la busqueda se amplia debido a la llave adicional\n",
        "          p=Nodo3(self.izq.insert(x),self.info1,self.med,self.info2,self.der) \n",
        "        if self.info1<x and x<self.info2:\n",
        "          p=Nodo3(self.izq,self.info1,self.med.insert(x),self.info2,self.der)\n",
        "        if self.info2<x:\n",
        "          p=Nodo3(self.izq,self.info1,self.med,self.info2,self.der.insert(x))  \n",
        "        \n",
        "        #Las hojas tendrán distintas alturas una vez finalizada la inserción por lo que se tendrá que hacer split para cumplir invariante de todas las hojas al mismo nivel\n",
        "\n",
        "        if p.izq.altura>p.med.altura or p.izq.altura>p.der.altura: #split izquierdo\n",
        "          p=Nodo2(Nodo2(p.izq.izq,p.izq.info,p.izq.der),p.info1,Nodo2(p.med,p.info2,p.der))\n",
        "\n",
        "        elif p.med.altura>p.izq.altura or p.med.altura>p.der.altura:#split medio\n",
        "          p=Nodo2(Nodo2(p.izq,p.info1,p.med.izq),p.med.info,Nodo2(p.med.der,p.info2,p.der))\n",
        "        \n",
        "        elif p.der.altura>p.izq.altura or p.der.altura>p.med.altura:#split derecho\n",
        "          p=Nodo2(Nodo2(p.izq,p.info1,p.med),p.info2,Nodo2(p.der.izq,p.der.info,p.der.der))\n",
        "\n",
        "        return p\n",
        "    \n",
        "    def search(self,x):\n",
        "        if x==self.info1 or x==self.info2:\n",
        "          return self\n",
        "        if x<self.info1:\n",
        "            return self.izq.search(x)\n",
        "        if x>self.info2:\n",
        "            return self.der.search(x)\n",
        "        else:\n",
        "            return self.med.search(x)\n",
        "        \n",
        "        \n",
        "    def string(self):                            #parentizado diferente para notar entre nodo binario y terciario\n",
        "        return (\"[\"+self.izq.string()\n",
        "                +str(self.info1)\n",
        "                +self.med.string()\n",
        "                +str(self.info2)\n",
        "                +self.der.string()+\"]\")\n",
        "\n",
        "    def esternario(self):\n",
        "        return True\n",
        "\n",
        "    def esbinario(self):\n",
        "        return False  \n",
        "    \n",
        "class Nodoe:\n",
        "    def __init__(self):\n",
        "        self.altura=0        \n",
        "    \n",
        "    def insert(self,x): \n",
        "        return Nodo2(Nodoe(),x,Nodoe()) \n",
        "    \n",
        "    def string(self):\n",
        "        return\"☐\"\n",
        "    \n",
        "    def search(self,x):\n",
        "      return None\n",
        "\n",
        "    def esbinario(self):\n",
        "        return False \n",
        "    \n",
        "    def esternario(self):\n",
        "        return False \n",
        "    \n",
        "    def esnodoe(self):\n",
        "        return True\n",
        "\n",
        "class Arbol23:\n",
        "    def __init__(self,raiz=Nodoe()):\n",
        "        self.raiz=raiz     \n",
        "        \n",
        "    def insert(self,x):        \n",
        "        self.raiz=self.raiz.insert(x)  #Debido a la implementacion no fue necesario modificar esta parte\n",
        "        \n",
        "    def search(self,x):\n",
        "        return self.raiz.search(x)\n",
        "    \n",
        "    def imprimir(self):        \n",
        "        print(self.raiz.string())"
      ],
      "execution_count": 26,
      "outputs": []
    },
    {
      "cell_type": "markdown",
      "metadata": {
        "id": "DiLEIGrGRcDX",
        "colab_type": "text"
      },
      "source": [
        "Para probar este código, vamos a construir \"a mano\" el árbol 2-3 que aparece en el apunte, y luego imprimirlo:"
      ]
    },
    {
      "cell_type": "code",
      "metadata": {
        "id": "ihrbFTNsRcDY",
        "colab_type": "code",
        "colab": {}
      },
      "source": [
        "a=Nodo3(Nodo2(Nodoe(),10,Nodoe()),25,Nodo3(Nodoe(),32,Nodoe(),48,Nodoe()),57,Nodo2(Nodoe(),74,Nodoe()))"
      ],
      "execution_count": 20,
      "outputs": []
    },
    {
      "cell_type": "code",
      "metadata": {
        "id": "92guaCaLRcDj",
        "colab_type": "code",
        "colab": {
          "base_uri": "https://localhost:8080/",
          "height": 33
        },
        "outputId": "d48c4355-dc8f-4fc3-bcbc-4b9ba40c9a80"
      },
      "source": [
        "print(a.string())"
      ],
      "execution_count": 21,
      "outputs": [
        {
          "output_type": "stream",
          "text": [
            "[(☐10☐)25[☐32☐48☐]57(☐74☐)]\n"
          ],
          "name": "stdout"
        }
      ]
    },
    {
      "cell_type": "markdown",
      "metadata": {
        "id": "elWj8HAQRcDu",
        "colab_type": "text"
      },
      "source": [
        "Pruebe su código comenzando con un árbol vacío e insertando la siguiente secuencia de llaves:\n",
        "\n",
        "```\n",
        "3, 1, 4, 5, 9, 6, 2\n",
        "```\n",
        "\n",
        "Imprima el árbol resultante después de cada inserción. A continuación, busque \"2\", busque \"3\" y busque \"7\"."
      ]
    },
    {
      "cell_type": "code",
      "metadata": {
        "id": "pkXWntzQDjJU",
        "colab_type": "code",
        "colab": {
          "base_uri": "https://localhost:8080/",
          "height": 200
        },
        "outputId": "4a555eff-cb69-45df-a094-e53aa8c162cc"
      },
      "source": [
        "a=Arbol23()\n",
        "a.imprimir()\n",
        "a.insert(3)\n",
        "a.imprimir()\n",
        "a.insert(1)\n",
        "a.imprimir()\n",
        "a.insert(4)\n",
        "a.imprimir()\n",
        "a.insert(5)\n",
        "a.imprimir()\n",
        "a.insert(9)\n",
        "a.imprimir()\n",
        "a.insert(6)\n",
        "a.imprimir()\n",
        "a.insert(2)\n",
        "a.imprimir()\n",
        "a.search(2)\n",
        "a.search(3)\n",
        "a.search(7)\n",
        "print(a.search(2))\n",
        "print(a.search(3))\n",
        "print(a.search(7))"
      ],
      "execution_count": 27,
      "outputs": [
        {
          "output_type": "stream",
          "text": [
            "☐\n",
            "(☐3☐)\n",
            "[☐1☐3☐]\n",
            "((☐1☐)3(☐4☐))\n",
            "((☐1☐)3[☐4☐5☐])\n",
            "[(☐1☐)3(☐4☐)5(☐9☐)]\n",
            "[(☐1☐)3(☐4☐)5[☐6☐9☐]]\n",
            "[[☐1☐2☐]3(☐4☐)5[☐6☐9☐]]\n",
            "<__main__.Nodo3 object at 0x7f0da391bbe0>\n",
            "<__main__.Nodo3 object at 0x7f0da391bcc0>\n",
            "None\n"
          ],
          "name": "stdout"
        }
      ]
    },
    {
      "cell_type": "code",
      "metadata": {
        "id": "KXlB4L_siotx",
        "colab_type": "code",
        "colab": {
          "base_uri": "https://localhost:8080/",
          "height": 500
        },
        "outputId": "6a294f2d-cf63-4ae1-f1b8-a92794d88290"
      },
      "source": [
        "test=Arbol23()\n",
        "for i in range (1,30):\n",
        "  test.insert(i)\n",
        "  test.imprimir()\n",
        "\n"
      ],
      "execution_count": 29,
      "outputs": [
        {
          "output_type": "stream",
          "text": [
            "(☐1☐)\n",
            "[☐1☐2☐]\n",
            "((☐1☐)2(☐3☐))\n",
            "((☐1☐)2[☐3☐4☐])\n",
            "[(☐1☐)2(☐3☐)4(☐5☐)]\n",
            "[(☐1☐)2(☐3☐)4[☐5☐6☐]]\n",
            "(((☐1☐)2(☐3☐))4((☐5☐)6(☐7☐)))\n",
            "(((☐1☐)2(☐3☐))4((☐5☐)6[☐7☐8☐]))\n",
            "(((☐1☐)2(☐3☐))4[(☐5☐)6(☐7☐)8(☐9☐)])\n",
            "(((☐1☐)2(☐3☐))4[(☐5☐)6(☐7☐)8[☐9☐10☐]])\n",
            "[((☐1☐)2(☐3☐))4((☐5☐)6(☐7☐))8((☐9☐)10(☐11☐))]\n",
            "[((☐1☐)2(☐3☐))4((☐5☐)6(☐7☐))8((☐9☐)10[☐11☐12☐])]\n",
            "[((☐1☐)2(☐3☐))4((☐5☐)6(☐7☐))8[(☐9☐)10(☐11☐)12(☐13☐)]]\n",
            "[((☐1☐)2(☐3☐))4((☐5☐)6(☐7☐))8[(☐9☐)10(☐11☐)12[☐13☐14☐]]]\n",
            "((((☐1☐)2(☐3☐))4((☐5☐)6(☐7☐)))8(((☐9☐)10(☐11☐))12((☐13☐)14(☐15☐))))\n",
            "((((☐1☐)2(☐3☐))4((☐5☐)6(☐7☐)))8(((☐9☐)10(☐11☐))12((☐13☐)14[☐15☐16☐])))\n",
            "((((☐1☐)2(☐3☐))4((☐5☐)6(☐7☐)))8(((☐9☐)10(☐11☐))12[(☐13☐)14(☐15☐)16(☐17☐)]))\n",
            "((((☐1☐)2(☐3☐))4((☐5☐)6(☐7☐)))8(((☐9☐)10(☐11☐))12[(☐13☐)14(☐15☐)16[☐17☐18☐]]))\n",
            "((((☐1☐)2(☐3☐))4((☐5☐)6(☐7☐)))8[((☐9☐)10(☐11☐))12((☐13☐)14(☐15☐))16((☐17☐)18(☐19☐))])\n",
            "((((☐1☐)2(☐3☐))4((☐5☐)6(☐7☐)))8[((☐9☐)10(☐11☐))12((☐13☐)14(☐15☐))16((☐17☐)18[☐19☐20☐])])\n",
            "((((☐1☐)2(☐3☐))4((☐5☐)6(☐7☐)))8[((☐9☐)10(☐11☐))12((☐13☐)14(☐15☐))16[(☐17☐)18(☐19☐)20(☐21☐)]])\n",
            "((((☐1☐)2(☐3☐))4((☐5☐)6(☐7☐)))8[((☐9☐)10(☐11☐))12((☐13☐)14(☐15☐))16[(☐17☐)18(☐19☐)20[☐21☐22☐]]])\n",
            "[(((☐1☐)2(☐3☐))4((☐5☐)6(☐7☐)))8(((☐9☐)10(☐11☐))12((☐13☐)14(☐15☐)))16(((☐17☐)18(☐19☐))20((☐21☐)22(☐23☐)))]\n",
            "[(((☐1☐)2(☐3☐))4((☐5☐)6(☐7☐)))8(((☐9☐)10(☐11☐))12((☐13☐)14(☐15☐)))16(((☐17☐)18(☐19☐))20((☐21☐)22[☐23☐24☐]))]\n",
            "[(((☐1☐)2(☐3☐))4((☐5☐)6(☐7☐)))8(((☐9☐)10(☐11☐))12((☐13☐)14(☐15☐)))16(((☐17☐)18(☐19☐))20[(☐21☐)22(☐23☐)24(☐25☐)])]\n",
            "[(((☐1☐)2(☐3☐))4((☐5☐)6(☐7☐)))8(((☐9☐)10(☐11☐))12((☐13☐)14(☐15☐)))16(((☐17☐)18(☐19☐))20[(☐21☐)22(☐23☐)24[☐25☐26☐]])]\n",
            "[(((☐1☐)2(☐3☐))4((☐5☐)6(☐7☐)))8(((☐9☐)10(☐11☐))12((☐13☐)14(☐15☐)))16[((☐17☐)18(☐19☐))20((☐21☐)22(☐23☐))24((☐25☐)26(☐27☐))]]\n",
            "[(((☐1☐)2(☐3☐))4((☐5☐)6(☐7☐)))8(((☐9☐)10(☐11☐))12((☐13☐)14(☐15☐)))16[((☐17☐)18(☐19☐))20((☐21☐)22(☐23☐))24((☐25☐)26[☐27☐28☐])]]\n",
            "[(((☐1☐)2(☐3☐))4((☐5☐)6(☐7☐)))8(((☐9☐)10(☐11☐))12((☐13☐)14(☐15☐)))16[((☐17☐)18(☐19☐))20((☐21☐)22(☐23☐))24[(☐25☐)26(☐27☐)28(☐29☐)]]]\n"
          ],
          "name": "stdout"
        }
      ]
    },
    {
      "cell_type": "markdown",
      "metadata": {
        "id": "RxhfwsDfRcDx",
        "colab_type": "text"
      },
      "source": [
        "## ¿Qué hay que entregar?\n",
        "\n",
        "Usted debe entregar este mismo archivo, modificado de acuerdo a lo que se pide. Haga todos los cambios necesarios para explicar y documentar adecuadamente su código. No olvide poner su nombre."
      ]
    }
  ]
}